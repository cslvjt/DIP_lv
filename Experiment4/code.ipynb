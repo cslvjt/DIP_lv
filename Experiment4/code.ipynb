{
 "cells": [
  {
   "cell_type": "code",
   "execution_count": 19,
   "metadata": {},
   "outputs": [
    {
     "name": "stdout",
     "output_type": "stream",
     "text": [
      "[[1 0 3]\n",
      " [0 1 3]\n",
      " [0 0 1]]\n"
     ]
    }
   ],
   "source": [
    "from PIL import Image\n",
    "import numpy as np\n",
    "\n",
    "imgPath=\"../assest/lean.jpg\"\n",
    "\n",
    "def test():\n",
    " matrix=np.zeros((3,3),dtype=np.uint8) #numpy.ndarray\n",
    " for i in range(0,3):\n",
    "  matrix[:,2]=3\n",
    "  matrix[i,i]=1\n",
    " print(matrix)\n",
    "\n",
    " #print(matrix)\n",
    "def shift():\n",
    " matrix=np.zeros((512,512),dtype=np.uint8) #numpy.ndarray\n",
    " for i in range(0,512):\n",
    "  matrix[:,511]=10\n",
    "  matrix[i,i]=1\n",
    " src_img=np.array(Image.open(imgPath).convert('L')) #numpy.ndarry\n",
    "\n",
    " dst_img=np.matmul(matrix,src_img)\n",
    " result=Image.fromarray(dst_img.astype('uint8'))\n",
    " result.save(\"result.jpeg\")\n",
    "\n",
    "\n",
    " pass\n",
    "def rotate():\n",
    " pass\n",
    "def mirror():\n",
    " pass\n",
    "test()"
   ]
  }
 ],
 "metadata": {
  "kernelspec": {
   "display_name": "Python 3.8.13 ('pytorch12')",
   "language": "python",
   "name": "python3"
  },
  "language_info": {
   "codemirror_mode": {
    "name": "ipython",
    "version": 3
   },
   "file_extension": ".py",
   "mimetype": "text/x-python",
   "name": "python",
   "nbconvert_exporter": "python",
   "pygments_lexer": "ipython3",
   "version": "3.8.13"
  },
  "orig_nbformat": 4,
  "vscode": {
   "interpreter": {
    "hash": "23e52e238af08500a3bee4c6cfaf8fbe95f6c2d9a2ec501699237814471aeb4b"
   }
  }
 },
 "nbformat": 4,
 "nbformat_minor": 2
}
