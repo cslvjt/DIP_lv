{
 "cells": [
  {
   "cell_type": "code",
   "execution_count": 22,
   "metadata": {},
   "outputs": [
    {
     "name": "stdout",
     "output_type": "stream",
     "text": [
      "图像旋转: 0\n"
     ]
    }
   ],
   "source": [
    "from PIL import Image\n",
    "import numpy as np\n",
    "import math\n",
    "\n",
    "imgPath=\"../assest/lean.jpg\"\n",
    "src_img=np.array(Image.open(imgPath).convert('L')) #numpy.ndarray (512,512)\n",
    "def test():\n",
    " angle=45\n",
    " d=math.radians(angle)\n",
    " print(math.sin(d),math.cos(d))\n",
    "\n",
    " #print(matrix)\n",
    "def shift(shiftValue):\n",
    " matrix=np.zeros((3,3),dtype=np.uint8)\n",
    " for i in range(0,3):\n",
    "  matrix[:,2]=shiftValue\n",
    "  matrix[i,i]=1\n",
    " result=trans(matrix)\n",
    " result.save(\"shiftResult.jpg\")\n",
    " print(\"图像移动:\",shiftValue)\n",
    "\n",
    "def rotate(angle):\n",
    " d=math.radians(angle)\n",
    " cosValue=math.cos(d)\n",
    " sinValue=math.sin(d)\n",
    " matrix=np.zeros((3,3),dtype=np.uint8)\n",
    " matrix[0,0]=0.8\n",
    " matrix[0,1]=-0.6\n",
    " matrix[1,0]=0.6\n",
    " matrix[1,1]=0.8\n",
    " \"\"\"\n",
    " matrix[0,0]=cosValue\n",
    " matrix[0,1]=-sinValue\n",
    " matrix[1,0]=sinValue\n",
    " matrix[1,1]=cosValue\n",
    " \"\"\"\n",
    " matrix[2,2]=1\n",
    " result=trans(matrix)\n",
    " result.save(\"rotateResult.jpg\")\n",
    " print(\"图像旋转:\",angle)\n",
    "def mirror():\n",
    " pass\n",
    "def trans(matrix):\n",
    " dst_img=np.zeros((1024,1024))\n",
    " for x in range(0,512):\n",
    "  for y in range(0,512):\n",
    "   src_index=np.array([x,y,1],ndmin=2).T\n",
    "   dst_index=np.matmul(matrix,src_index)\n",
    "   dst_img[dst_index[0,0],dst_index[1,0]]=src_img[x,y]\n",
    " result=Image.fromarray(dst_img.astype('uint8'))\n",
    " return result\n",
    "rotate(0)"
   ]
  }
 ],
 "metadata": {
  "kernelspec": {
   "display_name": "Python 3.8.13 ('pytorch12')",
   "language": "python",
   "name": "python3"
  },
  "language_info": {
   "codemirror_mode": {
    "name": "ipython",
    "version": 3
   },
   "file_extension": ".py",
   "mimetype": "text/x-python",
   "name": "python",
   "nbconvert_exporter": "python",
   "pygments_lexer": "ipython3",
   "version": "3.8.13"
  },
  "orig_nbformat": 4,
  "vscode": {
   "interpreter": {
    "hash": "23e52e238af08500a3bee4c6cfaf8fbe95f6c2d9a2ec501699237814471aeb4b"
   }
  }
 },
 "nbformat": 4,
 "nbformat_minor": 2
}
