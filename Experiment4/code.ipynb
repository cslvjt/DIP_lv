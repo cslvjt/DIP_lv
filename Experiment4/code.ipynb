{
 "cells": [
  {
   "cell_type": "code",
   "execution_count": null,
   "metadata": {},
   "outputs": [],
   "source": [
    "from PIL import Image\n",
    "import numpy as np\n",
    "import math\n",
    "import cv2\n",
    "\n",
    "imgPath=\"../assest/lean.jpg\"\n",
    "src_img=np.array(Image.open(imgPath).convert('L')) #numpy.ndarray (512,512)\n",
    "def test():\n",
    " angle=45\n",
    " d=math.radians(angle)\n",
    " print(math.sin(d),math.cos(d))\n",
    "\n",
    " #print(matrix)\n",
    "def shift(shiftValue):\n",
    " matrix=np.zeros((3,3),dtype=np.uint8)\n",
    " for i in range(0,3):\n",
    "  matrix[:,2]=shiftValue\n",
    "  matrix[i,i]=1\n",
    " dst_img=np.zeros((1024,1024))\n",
    " for x in range(0,10):\n",
    "  for y in range(0,10):\n",
    "   src_index=np.array([x,y,1],ndmin=2).T\n",
    "   dst_index=np.matmul(matrix,src_index)\n",
    "   print(dst_index)\n",
    "   if dst_index[0,0] in range(0,1024) and dst_index[1,0] in range(0,1024):\n",
    "     dst_img[int(dst_index[0,0]),int(dst_index[1,0])]=src_img[x,y]\n",
    " result=Image.fromarray(dst_img.astype('uint8'))\n",
    " result.save(\"shiftResult.jpg\")\n",
    " print(\"图像移动:\",shiftValue)\n",
    "\n",
    "# 目前存在的问题，当你坐标转化之后为小数，而你定义的矩阵精度是int，出现了bug\n",
    "def rotate(angle):\n",
    " matrix=np.zeros((3,3),dtype=np.ulonglong)\n",
    " matrix[0,0]=0\n",
    " matrix[0,1]=-1\n",
    " matrix[1,0]=1\n",
    " matrix[1,1]=0\n",
    " matrix[2,2]=1\n",
    " result=trans(matrix)\n",
    " #print(result[:, :])\n",
    " # result.save(\"test.jpg\")\n",
    "def mirror():\n",
    " pass\n",
    "def trans(matrix):\n",
    " dst_img=np.zeros((1024,1024))\n",
    " for x in range(0,10):\n",
    "  for y in range(0,10):\n",
    "   src_index=np.array([x,y,1],ndmin=2).T\n",
    "   dst_index=np.matmul(matrix,src_index)\n",
    "   print(dst_index)\n",
    "   if dst_index[0,0] in range(0,1024) and dst_index[1,0] in range(0,1024):\n",
    "    dst_img[int(dst_index[0,0]),int(dst_index[1,0])]=src_img[x,y]\n",
    " # result=Image.fromarray(dst_img.astype('uint8'))\n",
    " result = dst_img\n",
    " return result\n",
    "rotate(100)\n",
    "# shift(100)"
   ]
  }
 ],
 "metadata": {
  "kernelspec": {
   "display_name": "Python 3.8.13 ('pytorch12')",
   "language": "python",
   "name": "python3"
  },
  "language_info": {
   "codemirror_mode": {
    "name": "ipython",
    "version": 3
   },
   "file_extension": ".py",
   "mimetype": "text/x-python",
   "name": "python",
   "nbconvert_exporter": "python",
   "pygments_lexer": "ipython3",
   "version": "3.8.13"
  },
  "orig_nbformat": 4,
  "vscode": {
   "interpreter": {
    "hash": "23e52e238af08500a3bee4c6cfaf8fbe95f6c2d9a2ec501699237814471aeb4b"
   }
  }
 },
 "nbformat": 4,
 "nbformat_minor": 2
}
