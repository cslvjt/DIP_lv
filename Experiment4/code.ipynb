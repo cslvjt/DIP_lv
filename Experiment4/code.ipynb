{
 "cells": [
  {
   "cell_type": "markdown",
   "metadata": {},
   "source": [
    "# 图像平移\n",
    "原理：将原图像的坐标进行相加从而获得新图像"
   ]
  },
  {
   "cell_type": "code",
   "execution_count": null,
   "metadata": {},
   "outputs": [],
   "source": [
    "from PIL import Image\n",
    "import numpy as np\n",
    "import math\n",
    "import cv2\n",
    "\n",
    "imgPath = \"../assest/lean.jpg\"\n",
    "src_img = np.array(Image.open(imgPath).convert('L'))  # numpy.ndarray (512,512)读取图像为灰度图\n",
    "\n",
    "\n",
    "def shift(shiftValue):\n",
    "    matrix = np.zeros((3, 3), dtype=np.uint8)\n",
    "    for i in range(0, 3):\n",
    "        matrix[:, 2] = shiftValue\n",
    "        matrix[i, i] = 1\n",
    "    dst_img = np.zeros((1024, 1024))\n",
    "    for x in range(0, 10):\n",
    "        for y in range(0, 10):\n",
    "            src_index = np.array([x, y, 1], ndmin=2).T\n",
    "            dst_index = np.matmul(matrix, src_index)\n",
    "            print(dst_index)\n",
    "            if dst_index[0, 0] in range(0, 1024) and dst_index[1, 0] in range(0, 1024):\n",
    "                dst_img[int(dst_index[0, 0]), int(dst_index[1, 0])] = src_img[x, y]\n",
    "    result = Image.fromarray(dst_img.astype('uint8'))\n",
    "    result.save(\"shiftResult.jpg\")\n",
    "    print(\"图像移动:\", shiftValue)"
   ]
  },
  {
   "cell_type": "markdown",
   "metadata": {},
   "source": [
    "# 旋转\n",
    "\n",
    "## 为什么采用后向映射的方法放置图像？\n",
    "原因：之所以有后向映射是因为在前向映射中获取的旋转后坐标是浮点数，但是像素只能是整数，所以就产生了像素缺失。\n",
    "## 如何确定新图像的像素值？\n",
    "采用双线性内插。\n",
    "\n",
    "<img src=../assest/双线性插值.jpg>"
   ]
  },
  {
   "cell_type": "code",
   "execution_count": null,
   "metadata": {},
   "outputs": [],
   "source": [
    "import numpy as np\n",
    "import matplotlib.pyplot as plt\n",
    "import skimage.data\n",
    "import skimage.io\n",
    "import cv2\n",
    "\n",
    "image_path = r\"../assest/lean.jpg\"\n",
    "img = cv2.imread(image_path)\n",
    "img = cv2.cvtColor(img, cv2.COLOR_RGB2BGR, cv2.CV_8UC3)\n",
    "\n",
    "\n",
    "def rotate(angle):\n",
    "    \"\"\"\n",
    "    angle:旋转角度，弧度制\n",
    "    \"\"\"\n",
    "    Rotate_angle = angle * np.pi / 180\n",
    "\n",
    "    # 设置新的图像大小\n",
    "    h, w = img.shape[0], img.shape[1]\n",
    "    newW = int(w * abs(np.cos(angle)) + h * abs(np.sin(angle))) + 1\n",
    "    newH = int(w * abs(np.sin(angle)) + h * abs(np.cos(angle))) + 1\n",
    "\n",
    "    # 目标图像\n",
    "    dstImg = np.zeros((newH, newW, 3), dtype=int)\n",
    "\n",
    "    # 设置旋转矩阵 src -> des\n",
    "    trans1 = np.array([[1, 0, 0], [0, -1, 0], [-0.5 * w, 0.5 * h, 1]])\n",
    "    trans1 = trans1.dot(np.array([[np.cos(angle), -np.sin(angle), 0], [np.sin(angle), np.cos(angle), 0], [0, 0, 1]]))\n",
    "    trans1 = trans1.dot(np.array([[1, 0, 0], [0, -1, 0], [0.5 * newW, 0.5 * newH, 1]]))\n",
    "    # des -> src\n",
    "    trans2 = np.array([[1, 0, 0], [0, -1, 0], [-0.5 * newW, 0.5 * newH, 1]])\n",
    "    trans2 = trans2.dot(np.array([[np.cos(angle), np.sin(angle), 0], [-np.sin(angle), np.cos(angle), 0], [0, 0, 1]]))\n",
    "    trans2 = trans2.dot(np.array([[1, 0, 0], [0, -1, 0], [0.5 * w, 0.5 * h, 1]]))\n",
    "\n",
    "    for x in range(newW):\n",
    "        for y in range(newH):\n",
    "            srcPos = np.array([x, y, 1]).dot(trans2)\n",
    "            if srcPos[0] >= 0 and srcPos[0] < w and srcPos[1] >= 0 and srcPos[1] < h:\n",
    "                # 最邻近内插\n",
    "                dstImg[y][x] = img[int(srcPos[1])][int(srcPos[0])]\n",
    "\n",
    "    # 绘图\n",
    "    sub = plt.subplot(1, 2, 1)\n",
    "    sub.set_title(\"Src Img\")\n",
    "    plt.imshow(img)\n",
    "    sub = plt.subplot(1, 2, 2)\n",
    "    sub.set_title(\"Des->Src & Nearest\")\n",
    "    plt.imshow(dstImg)\n",
    "    plt.show()\n",
    "\n",
    "\n",
    "rotate(45)\n"
   ]
  },
  {
   "cell_type": "markdown",
   "metadata": {},
   "source": [
    "# 镜像"
   ]
  },
  {
   "cell_type": "code",
   "execution_count": null,
   "metadata": {},
   "outputs": [],
   "source": [
    "from PIL import Image\n",
    "import numpy as np\n",
    "import math\n",
    "import cv2\n",
    "import copy\n",
    "\n",
    "imgPath = \"../assest/lean.jpg\"\n",
    "src_img = np.array(Image.open(imgPath).convert('L'))  # numpy.ndarray (512,512)读取图像为灰度图\n",
    "dstImg = copy.deepcopy(src_img)\n",
    "print(dstImg.shape)\n",
    "imgH = src_img.shape[0]\n",
    "imgW = src_img.shape[1]\n",
    "for i in range(imgH):\n",
    "    for j in range(imgW):\n",
    "        print()\n",
    "        dstImg[i][imgW - 1 - j] = src_img[i][j]\n",
    "cv2.imwrite(\"result.jpg\", dstImg)\n"
   ]
  }
 ],
 "metadata": {
  "kernelspec": {
   "display_name": "Python 3.8.13 ('pytorch')",
   "language": "python",
   "name": "python3"
  },
  "language_info": {
   "codemirror_mode": {
    "name": "ipython",
    "version": 3
   },
   "file_extension": ".py",
   "mimetype": "text/x-python",
   "name": "python",
   "nbconvert_exporter": "python",
   "pygments_lexer": "ipython3",
   "version": "3.8.13"
  },
  "orig_nbformat": 4,
  "vscode": {
   "interpreter": {
    "hash": "030c80840b0d9f5db79d93d54f37f04cee5e760b761780c141ee4f016f609d74"
   }
  }
 },
 "nbformat": 4,
 "nbformat_minor": 2
}
