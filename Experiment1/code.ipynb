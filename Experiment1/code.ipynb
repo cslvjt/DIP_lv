{
 "cells": [
  {
   "cell_type": "markdown",
   "metadata": {},
   "source": [
    "# 对图像进行线性点运算\n",
    "注意lean图像为RGB色彩空间"
   ]
  },
  {
   "cell_type": "code",
   "execution_count": null,
   "metadata": {},
   "outputs": [],
   "source": [
    "import cv2\n",
    "import numpy as np\n",
    "import matplotlib.pyplot as plt\n",
    "\n",
    "# load_img\n",
    "src_img=cv2.imread(\"../assest/lean.jpg\")\n",
    "# show_src_img\n",
    "plt.imshow(src_img)\n",
    "plt.show()\n",
    "\n",
    "# 对图像进行线性点运算 dst_img=1.5*src_img-50\n",
    "matrix_50=np.ones((512,512,3),dtype=np.uint8)*100\n",
    "dst_img=src_img\n",
    "dst_img=np.subtract(dst_img*1.5,matrix_50)\n",
    "plt.imshow(dst_img)\n",
    "plt.show()"
   ]
  },
  {
   "cell_type": "markdown",
   "metadata": {},
   "source": [
    "# 分段线性点运算"
   ]
  }
 ],
 "metadata": {
  "kernelspec": {
   "display_name": "Python 3.8.13 ('pytorch')",
   "language": "python",
   "name": "python3"
  },
  "language_info": {
   "codemirror_mode": {
    "name": "ipython",
    "version": 3
   },
   "file_extension": ".py",
   "mimetype": "text/x-python",
   "name": "python",
   "nbconvert_exporter": "python",
   "pygments_lexer": "ipython3",
   "version": "3.8.13"
  },
  "orig_nbformat": 4,
  "vscode": {
   "interpreter": {
    "hash": "030c80840b0d9f5db79d93d54f37f04cee5e760b761780c141ee4f016f609d74"
   }
  }
 },
 "nbformat": 4,
 "nbformat_minor": 2
}
