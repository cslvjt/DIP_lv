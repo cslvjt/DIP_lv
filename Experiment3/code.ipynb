{
 "cells": [
  {
   "cell_type": "code",
   "execution_count": null,
   "metadata": {},
   "outputs": [],
   "source": [
    "%matplotlib inline\n",
    "import cv2\n",
    "import numpy as np\n",
    "from matplotlib import pyplot as plt\n",
    "\n",
    "#matplotlib标题字体设置\n",
    "from pylab import mpl\n",
    "mpl.rcParams['font.sans-serif'] = ['FangSong']\n",
    "mpl.rcParams['axes.unicode_minus'] = False\n",
    "\n",
    "#调整图像大小\n",
    "plt.figure(figsize=(20, 20))\n",
    "\n",
    "#读取图像\n",
    "img = cv2.imread('../assest/lean.jpg', 0)  # 直接读为灰度图像\n",
    "# numpy傅里叶变换\n",
    "f = np.fft.fft2(img)\n",
    "# 移位\n",
    "f_shift = np.fft.fftshift(f)\n",
    "\n",
    "# 取绝对值：将复数变化成实数\n",
    "# 取对数的目的为了将数据变化到较小的范围（比方0-255）\n",
    "s1 = np.log(np.abs(f))\n",
    "s2 = np.log(np.abs(f_shift))\n",
    "\n",
    "# 进行傅里叶逆变换 将频率谱转为图像\n",
    "img_back = np.fft.ifft2(f)\n",
    "img_back = np.abs(img_back)\n",
    "\n",
    "# 移位到中点的频率图\n",
    "plt.subplot(121), plt.imshow(s2, 'gray'), plt.title('频域图')\n",
    "#展示图像\n",
    "plt.subplot(122), plt.imshow(img_back, 'gray'), plt.title('空域图')\n",
    "plt.show()"
   ]
  }
 ],
 "metadata": {
  "kernelspec": {
   "display_name": "Python 3.8.13 ('pytorch')",
   "language": "python",
   "name": "python3"
  },
  "language_info": {
   "codemirror_mode": {
    "name": "ipython",
    "version": 3
   },
   "file_extension": ".py",
   "mimetype": "text/x-python",
   "name": "python",
   "nbconvert_exporter": "python",
   "pygments_lexer": "ipython3",
   "version": "3.8.13"
  },
  "orig_nbformat": 4,
  "vscode": {
   "interpreter": {
    "hash": "030c80840b0d9f5db79d93d54f37f04cee5e760b761780c141ee4f016f609d74"
   }
  }
 },
 "nbformat": 4,
 "nbformat_minor": 2
}
