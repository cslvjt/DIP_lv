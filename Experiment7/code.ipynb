{
 "cells": [
  {
   "cell_type": "markdown",
   "metadata": {},
   "source": [
    "## 大津法\n",
    "\n",
    "大津法是按图像的灰度特性,将图像分成背景和前景两部分。因方差是灰度分布均匀性的一种度量,背景和前景之间的类间方差越大,说明构成图像的两部分的差别越大,当部分前景错分为背景或部分背景错分为前景都会导致两部分差别变小。因此,使类间方差最大的分割意味着错分概率最小。\n",
    "\n",
    "## 什么是类间方差？\n",
    "\n",
    "<img src=\"../assest/大津法.jpg\">"
   ]
  },
  {
   "cell_type": "code",
   "execution_count": 1,
   "metadata": {},
   "outputs": [
    {
     "name": "stdout",
     "output_type": "stream",
     "text": [
      "Best threshold = 156\n"
     ]
    }
   ],
   "source": [
    "import cv2 as cv\n",
    "import numpy as np\n",
    "import matplotlib.pyplot as plt\n",
    "\n",
    "# 正式开始\n",
    "img = cv.imread(r\"../assest/cards.jpg\", 0)\n",
    "\n",
    "Sigma = -1\n",
    "T = 0\n",
    "\n",
    "for t in range(0, 256):\n",
    "    bg  = img[img <= t]\n",
    "    obj = img[img > t]\n",
    "    \n",
    "    p0 = bg.size / img.size\n",
    "    p1 = obj.size / img.size\n",
    "    \n",
    "    m0 = 0 if bg.size == 0 else bg.mean()\n",
    "    m1 = 0 if obj.size == 0 else obj.mean()\n",
    "    \n",
    "    sigma = p0 * p1 * (m0 - m1)**2\n",
    "    \n",
    "    if sigma > Sigma:\n",
    "        Sigma = sigma\n",
    "        T = t\n",
    "T = int(T)\n",
    "# 此时 T 即为最佳阈值\n",
    "print(f\"Best threshold = {T}\")\n"
   ]
  },
  {
   "cell_type": "markdown",
   "metadata": {},
   "source": [
    "# 迭代法阈值分割\n",
    "1、选取初始分割阈值，通常可选图像灰度平均值$T$。\n",
    "\n",
    "2、根据阈值$T$将图像像素分割为背景和前景，分别求出两者的平均灰度$T0$和$T1$。\n",
    "\n",
    "3、计算新的阈值$T′=\\frac{T0+T12}{2}$。\n",
    "\n",
    "4、若$T==T′$,则迭代结束，$T$即为最终阈值。否则令$T=T′$，转第 (2) 步。\n"
   ]
  },
  {
   "cell_type": "code",
   "execution_count": 1,
   "metadata": {},
   "outputs": [
    {
     "name": "stdout",
     "output_type": "stream",
     "text": [
      "Best threshold = 155\n"
     ]
    }
   ],
   "source": [
    "import cv2 as cv\n",
    "import numpy as np\n",
    "import matplotlib.pyplot as plt\n",
    "\n",
    "img = cv.imread(r\"../assest/cards.jpg\", 0)\n",
    "\n",
    "T = img.mean()\n",
    "\n",
    "while True:\n",
    "    t0 = img[img < T].mean()\n",
    "    t1 = img[img >= T].mean()\n",
    "    t  = (t0 + t1) / 2\n",
    "    if abs(T - t) < 1:\n",
    "        break\n",
    "    T = t\n",
    "T = int(T)\n",
    "\n",
    "print(f\"Best threshold = {T}\")\n",
    "th, img_bin = cv.threshold(img, T, 255, 0)\n"
   ]
  }
 ],
 "metadata": {
  "kernelspec": {
   "display_name": "Python 3.8.13 ('pytorch')",
   "language": "python",
   "name": "python3"
  },
  "language_info": {
   "codemirror_mode": {
    "name": "ipython",
    "version": 3
   },
   "file_extension": ".py",
   "mimetype": "text/x-python",
   "name": "python",
   "nbconvert_exporter": "python",
   "pygments_lexer": "ipython3",
   "version": "3.8.13"
  },
  "orig_nbformat": 4,
  "vscode": {
   "interpreter": {
    "hash": "030c80840b0d9f5db79d93d54f37f04cee5e760b761780c141ee4f016f609d74"
   }
  }
 },
 "nbformat": 4,
 "nbformat_minor": 2
}
