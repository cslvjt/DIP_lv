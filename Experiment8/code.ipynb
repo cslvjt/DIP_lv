{
 "cells": [
  {
   "cell_type": "markdown",
   "metadata": {},
   "source": [
    "# 分水岭算法\n",
    "1、把梯度图像中的所有像素按照灰度值进行分类，并设定一个阈值(大津法)。\n",
    "2、找到灰度值最小的像素点（默认标记为灰度值最低点），让threshold从最小值开始增长，这些点为起始点。\n",
    "3、水平面在增长的过程中，会碰到周围的邻域像素，测量这些像素到起始点（灰度值最低点）的测地距离，如果小于设定阈值，则将这些像素淹没，否则在这些像素上设置大坝，这样就对这些邻域像素进行了分类。\n",
    "4、随着水平面越来越高，会设置更多更高的大坝，直到灰度值的最大值，所有区域都在分水岭线上相遇，这些大坝就对整个图像像素的进行了分区"
   ]
  },
  {
   "cell_type": "code",
   "execution_count": 1,
   "metadata": {},
   "outputs": [
    {
     "name": "stdout",
     "output_type": "stream",
     "text": [
      "10\n"
     ]
    }
   ],
   "source": [
    "# -*- coding: UTF-8 -*-\n",
    "import cv2 as cv\n",
    "import numpy as np\n",
    "\n",
    "\n",
    "def watershed_algorithm(image):\n",
    "    # 边缘保留滤波EPF  去噪\n",
    "    blur = cv.pyrMeanShiftFiltering(image,sp=10,sr=100)\n",
    "    # 转成灰度图像\n",
    "    gray = cv.cvtColor(blur, cv.COLOR_BGR2GRAY)\n",
    "    # 得到二值图像   自适应阈值\n",
    "    ret, binary = cv.threshold(gray, 0, 255, cv.THRESH_BINARY | cv.THRESH_OTSU)\n",
    "    cv.imshow('binary image', binary)\n",
    "\n",
    "    # 形态学操作   获取结构元素  开操作\n",
    "    kernel = cv.getStructuringElement(cv.MORPH_RECT, (3, 3))\n",
    "    opening = cv.morphologyEx(binary, cv.MORPH_OPEN, kernel=kernel, iterations=2)\n",
    "    # 确定区域\n",
    "    sure_bg = cv.dilate(opening, kernel, iterations=3)\n",
    "    # cv.imshow('mor-opt', sure_bg)\n",
    "\n",
    "    # 距离变换\n",
    "    dist = cv.distanceTransform(opening, cv.DIST_L2, 3)\n",
    "    dist_out = cv.normalize(dist, 0, 1.0, cv.NORM_MINMAX)\n",
    "    # cv.imshow('distance-', dist_out * 50)\n",
    "    ret, surface = cv.threshold(dist_out, dist_out.max() * 0.6, 255, cv.THRESH_BINARY)\n",
    "    # cv.imshow('surface-markers', surface)\n",
    "\n",
    "    surface_fg = np.uint8(surface)    # 转成8位整型\n",
    "    unkonown = cv.subtract(sure_bg, surface_fg)        # 找到位置区域\n",
    "    # Marker labelling\n",
    "    ret, markers = cv.connectedComponents(surface_fg)  # 连通区域\n",
    "    print(ret)\n",
    "\n",
    "    # 分水岭变换\n",
    "    # Add one to all labels so that sure background is not 0, but 1\n",
    "    markers = markers + 1\n",
    "    # Now, mark the region of unknown with zero\n",
    "    markers[unkonown == 255] = 0\n",
    "    # 实施分水岭算法了。标签图像将会被修改，边界区域的标记将变为 -1\n",
    "    markers = cv.watershed(image, markers=markers)\n",
    "    image[markers == -1] = [0, 0, 255]      # 被标记的区域   设为红色\n",
    "    cv.imshow('result', image)\n",
    "\n",
    "\n",
    "src = cv.imread(r'../assest/cards.jpg')\n",
    "src = cv.resize(src, None, fx=0.5, fy=0.5)\n",
    "cv.imshow('input image', src)\n",
    "watershed_algorithm(src)\n",
    "cv.waitKey(0)\n",
    "cv.destroyAllWindows()"
   ]
  }
 ],
 "metadata": {
  "kernelspec": {
   "display_name": "Python 3.8.13 ('pytorch')",
   "language": "python",
   "name": "python3"
  },
  "language_info": {
   "codemirror_mode": {
    "name": "ipython",
    "version": 3
   },
   "file_extension": ".py",
   "mimetype": "text/x-python",
   "name": "python",
   "nbconvert_exporter": "python",
   "pygments_lexer": "ipython3",
   "version": "3.8.13"
  },
  "orig_nbformat": 4,
  "vscode": {
   "interpreter": {
    "hash": "030c80840b0d9f5db79d93d54f37f04cee5e760b761780c141ee4f016f609d74"
   }
  }
 },
 "nbformat": 4,
 "nbformat_minor": 2
}
